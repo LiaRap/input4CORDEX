{
 "cells": [
  {
   "cell_type": "code",
   "execution_count": null,
   "id": "3dc50ec0-5037-444c-be3d-a765112a7fa5",
   "metadata": {},
   "outputs": [
    {
     "name": "stderr",
     "output_type": "stream",
     "text": [
      "ERROR 1: PROJ: proj_create_from_database: Open of /net/nfs/tools/u20/Python/miniconda3_py311_23.11.0-2/envs/pangeo-meso-2024.01.22/share/proj failed\n"
     ]
    }
   ],
   "source": [
    "import netCDF4 as nc\n",
    "import cartopy.crs as ccrs\n",
    "from datetime import date, timedelta, datetime\n",
    "import numpy as np\n",
    "import xarray as xr\n",
    "import pandas as pd\n",
    "import matplotlib.pyplot as plt\n",
    "import dask.array as da\n",
    "import os\n",
    "import cftime\n",
    "\n",
    "############ INPUT PATH ##############\n",
    "\n",
    "rootpath_in = '/modfs/project/input4CORDEX/output/'\n",
    "CORDEX_domain = 'EUR-11'\n",
    "GCM = 'NCC-NorESM1-M'\n",
    "scenario = 'rcp45'\n",
    "RCM = 'GERICS-REMO2015'\n",
    "em = 'r1i1p1' #ensemble_member\n",
    "ver='v1' #version\n",
    "freq='3hr' #frequency\n",
    "ver_2='latest'\n",
    "#version_3=..\n",
    "#version_4=..\n",
    "\n",
    "rootpath_out = '/modfs/project/input4CORDEX/output/'\n",
    "\n",
    "\n",
    "############################# TIME RANGE DEFINITION ###########\n",
    "\n",
    "first_year = 2010\n",
    "last_year = 2100\n",
    "\n",
    "years=np.arange(first_year, last_year+1, 1) #right value excluded\n",
    "\n",
    "################################# MASK CALL ######\n",
    "\n",
    "for y in years:\n",
    "\n",
    "    forcing_in = rootpath_in+CORDEX_domain+'/GERICS/'+GCM+'/'+scenario+'/'+em+'/'+RCM+'/'+ver+'/'+freq+'/forcing_'+CORDEX_domain+'_'+GCM+'_'+scenario+'_'+em+'_'+RCM+'_'+ver+'_'+freq+'_'+str(y)+'.nc'\n",
    "\n",
    "    ds = xr.open_dataset(forcing_in, decode_times = False)\n",
    "    ds_1 = ds.isel(lat=slice(100, 180)).isel(lon=slice(100, 255))\n",
    "    #ds_1 = ds_1.rename({'latitude': 'lat'})\n",
    "    #ds_1 = ds_1.rename({'longitude': 'lon'})\n",
    "    \n",
    "    ds.close()\n",
    "\n",
    "    forcing_out = rootpath_out+CORDEX_domain+'/GERICS/'+GCM+'/'+scenario+'/'+em+'/'+RCM+'/'+ver+'/'+freq+'/'+GCM+'_'+RCM+'_'+str(y)+'.nc'\n",
    "    if not os.path.isdir(os.path.dirname(forcing_out)):\n",
    "        os.makedirs(os.path.dirname(forcing_out))\n",
    "    ds_1.to_netcdf(forcing_out)\n",
    "\n",
    "    ds_1.close()\n",
    "\n"
   ]
  },
  {
   "cell_type": "code",
   "execution_count": null,
   "id": "5840ce26-de6a-4507-8e24-37785e1616c9",
   "metadata": {},
   "outputs": [],
   "source": []
  }
 ],
 "metadata": {
  "kernelspec": {
   "display_name": "Python 3",
   "language": "python",
   "name": "python3"
  },
  "language_info": {
   "codemirror_mode": {
    "name": "ipython",
    "version": 3
   },
   "file_extension": ".py",
   "mimetype": "text/x-python",
   "name": "python",
   "nbconvert_exporter": "python",
   "pygments_lexer": "ipython3",
   "version": "3.11.7"
  }
 },
 "nbformat": 4,
 "nbformat_minor": 5
}
